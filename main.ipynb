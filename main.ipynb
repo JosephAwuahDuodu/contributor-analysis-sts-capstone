{
 "cells": [
  {
   "cell_type": "code",
   "execution_count": 2,
   "metadata": {},
   "outputs": [],
   "source": [
    "import pandas as pd\n",
    "import numpy as np\n",
    "from matplotlib import pyplot"
   ]
  },
  {
   "cell_type": "code",
   "execution_count": 5,
   "metadata": {},
   "outputs": [
    {
     "data": {
      "text/html": [
       "<div>\n",
       "<style scoped>\n",
       "    .dataframe tbody tr th:only-of-type {\n",
       "        vertical-align: middle;\n",
       "    }\n",
       "\n",
       "    .dataframe tbody tr th {\n",
       "        vertical-align: top;\n",
       "    }\n",
       "\n",
       "    .dataframe thead th {\n",
       "        text-align: right;\n",
       "    }\n",
       "</style>\n",
       "<table border=\"1\" class=\"dataframe\">\n",
       "  <thead>\n",
       "    <tr style=\"text-align: right;\">\n",
       "      <th></th>\n",
       "      <th>transaction_id</th>\n",
       "      <th>customer_id</th>\n",
       "      <th>full_name</th>\n",
       "      <th>amount</th>\n",
       "      <th>transaction_type</th>\n",
       "      <th>location</th>\n",
       "      <th>device</th>\n",
       "      <th>ip_address</th>\n",
       "      <th>timestamp</th>\n",
       "      <th>source_acct</th>\n",
       "      <th>receiver_acct</th>\n",
       "    </tr>\n",
       "  </thead>\n",
       "  <tbody>\n",
       "    <tr>\n",
       "      <th>0</th>\n",
       "      <td>TXN1000</td>\n",
       "      <td>655</td>\n",
       "      <td>Nicole Miller</td>\n",
       "      <td>134.80</td>\n",
       "      <td>Credit</td>\n",
       "      <td>London</td>\n",
       "      <td>Mobile</td>\n",
       "      <td>9.100.248.251</td>\n",
       "      <td>2025-03-19 02:16:03.541501</td>\n",
       "      <td>ACC28728463</td>\n",
       "      <td>ACC23756669</td>\n",
       "    </tr>\n",
       "    <tr>\n",
       "      <th>1</th>\n",
       "      <td>TXN1001</td>\n",
       "      <td>693</td>\n",
       "      <td>Taylor Smith</td>\n",
       "      <td>4461.98</td>\n",
       "      <td>Credit</td>\n",
       "      <td>Lagos</td>\n",
       "      <td>Desktop</td>\n",
       "      <td>132.178.105.211</td>\n",
       "      <td>2025-04-08 09:29:19.555296</td>\n",
       "      <td>ACC14265799</td>\n",
       "      <td>ACC13999315</td>\n",
       "    </tr>\n",
       "    <tr>\n",
       "      <th>2</th>\n",
       "      <td>TXN1002</td>\n",
       "      <td>96</td>\n",
       "      <td>Bethany Sanchez</td>\n",
       "      <td>1170.98</td>\n",
       "      <td>Debit</td>\n",
       "      <td>Accra</td>\n",
       "      <td>ATM</td>\n",
       "      <td>23.46.218.19</td>\n",
       "      <td>2025-03-26 09:10:30.324582</td>\n",
       "      <td>ACC36687537</td>\n",
       "      <td>ACC97226012</td>\n",
       "    </tr>\n",
       "    <tr>\n",
       "      <th>3</th>\n",
       "      <td>TXN1003</td>\n",
       "      <td>719</td>\n",
       "      <td>Alexis Taylor</td>\n",
       "      <td>2103.40</td>\n",
       "      <td>Credit</td>\n",
       "      <td>Lagos</td>\n",
       "      <td>Desktop</td>\n",
       "      <td>138.241.248.235</td>\n",
       "      <td>2025-03-27 15:51:55.972388</td>\n",
       "      <td>ACC10872248</td>\n",
       "      <td>ACC31429110</td>\n",
       "    </tr>\n",
       "    <tr>\n",
       "      <th>4</th>\n",
       "      <td>TXN1004</td>\n",
       "      <td>715</td>\n",
       "      <td>Kelly Morgan</td>\n",
       "      <td>1707.85</td>\n",
       "      <td>Credit</td>\n",
       "      <td>London</td>\n",
       "      <td>Desktop</td>\n",
       "      <td>84.250.34.30</td>\n",
       "      <td>2025-03-26 02:27:01.358737</td>\n",
       "      <td>ACC23718431</td>\n",
       "      <td>ACC22448136</td>\n",
       "    </tr>\n",
       "  </tbody>\n",
       "</table>\n",
       "</div>"
      ],
      "text/plain": [
       "  transaction_id  customer_id        full_name   amount transaction_type  \\\n",
       "0        TXN1000          655    Nicole Miller   134.80           Credit   \n",
       "1        TXN1001          693     Taylor Smith  4461.98           Credit   \n",
       "2        TXN1002           96  Bethany Sanchez  1170.98            Debit   \n",
       "3        TXN1003          719    Alexis Taylor  2103.40           Credit   \n",
       "4        TXN1004          715     Kelly Morgan  1707.85           Credit   \n",
       "\n",
       "  location   device       ip_address                   timestamp  source_acct  \\\n",
       "0   London   Mobile    9.100.248.251  2025-03-19 02:16:03.541501  ACC28728463   \n",
       "1    Lagos  Desktop  132.178.105.211  2025-04-08 09:29:19.555296  ACC14265799   \n",
       "2    Accra      ATM     23.46.218.19  2025-03-26 09:10:30.324582  ACC36687537   \n",
       "3    Lagos  Desktop  138.241.248.235  2025-03-27 15:51:55.972388  ACC10872248   \n",
       "4   London  Desktop     84.250.34.30  2025-03-26 02:27:01.358737  ACC23718431   \n",
       "\n",
       "  receiver_acct  \n",
       "0   ACC23756669  \n",
       "1   ACC13999315  \n",
       "2   ACC97226012  \n",
       "3   ACC31429110  \n",
       "4   ACC22448136  "
      ]
     },
     "execution_count": 5,
     "metadata": {},
     "output_type": "execute_result"
    }
   ],
   "source": [
    "df = pd.read_csv('./transactions.csv')\n",
    "df.head()"
   ]
  },
  {
   "cell_type": "code",
   "execution_count": 14,
   "metadata": {},
   "outputs": [
    {
     "data": {
      "text/plain": [
       "transaction_id      9\n",
       "customer_id         9\n",
       "full_name           9\n",
       "amount              9\n",
       "transaction_type    9\n",
       "location            9\n",
       "device              9\n",
       "ip_address          9\n",
       "timestamp           9\n",
       "source_acct         9\n",
       "receiver_acct       9\n",
       "dtype: int64"
      ]
     },
     "execution_count": 14,
     "metadata": {},
     "output_type": "execute_result"
    }
   ],
   "source": [
    "filtered_df = df[df['customer_id'] == 719]\n",
    "filtered_df.count()"
   ]
  },
  {
   "cell_type": "code",
   "execution_count": 17,
   "metadata": {},
   "outputs": [
    {
     "name": "stdout",
     "output_type": "stream",
     "text": [
      "Most frequent customer_id: 981 (occurs 20 times)\n"
     ]
    }
   ],
   "source": [
    "most_frequent_customer = df['customer_id'].value_counts().idxmax()\n",
    "frequency = df['customer_id'].value_counts().max()\n",
    "print(f\"Most frequent customer_id: {most_frequent_customer} (occurs {frequency} times)\")\n"
   ]
  },
  {
   "cell_type": "code",
   "execution_count": null,
   "metadata": {},
   "outputs": [],
   "source": []
  }
 ],
 "metadata": {
  "kernelspec": {
   "display_name": ".venv",
   "language": "python",
   "name": "python3"
  },
  "language_info": {
   "codemirror_mode": {
    "name": "ipython",
    "version": 3
   },
   "file_extension": ".py",
   "mimetype": "text/x-python",
   "name": "python",
   "nbconvert_exporter": "python",
   "pygments_lexer": "ipython3",
   "version": "3.12.2"
  }
 },
 "nbformat": 4,
 "nbformat_minor": 2
}
